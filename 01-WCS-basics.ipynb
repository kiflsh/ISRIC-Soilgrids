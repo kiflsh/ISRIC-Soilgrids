{
 "cells": [
  {
   "cell_type": "markdown",
   "metadata": {},
   "source": [
    "Basic interaction with the Web Coverage Service\n",
    "===========================\n",
    "\n",
    "The interaction with a WCS is made very convinient by the [OWSLib](https://geopython.github.io/OWSLib/) pacakge. This section shows how to use OWSLib to obtain relevant information about the service and the maps it serves.\n",
    "\n",
    "First load the `WebCoverageService` class from the OWSLib and create a connection to a service, in this case the one serving the predictions for bulk density:"
   ]
  },
  {
   "cell_type": "code",
   "execution_count": 1,
   "metadata": {},
   "outputs": [],
   "source": [
    "from owslib.wcs import WebCoverageService\n",
    "wcs = WebCoverageService('http://maps.isric.org/mapserv?map=/map/bdod.map', version='1.0.0')"
   ]
  },
  {
   "cell_type": "markdown",
   "metadata": {},
   "source": [
    "The absense of errors means that a connection was sucessfully established. To get more information about this service, start by identifying the operations available:"
   ]
  },
  {
   "cell_type": "code",
   "execution_count": 2,
   "metadata": {
    "scrolled": true
   },
   "outputs": [
    {
     "name": "stdout",
     "output_type": "stream",
     "text": [
      "['GetCapabilities', 'DescribeCoverage', 'GetCoverage']\n"
     ]
    }
   ],
   "source": [
    "print([op.name for op in wcs.operations])"
   ]
  },
  {
   "cell_type": "markdown",
   "metadata": {},
   "source": [
    "The full list of coverages available from this service is in the `contents` property:"
   ]
  },
  {
   "cell_type": "code",
   "execution_count": 3,
   "metadata": {
    "scrolled": true
   },
   "outputs": [
    {
     "name": "stdout",
     "output_type": "stream",
     "text": [
      "['bdod_0-5cm_Q0.5', 'bdod_0-5cm_Q0.05', 'bdod_0-5cm_Q0.95', 'bdod_0-5cm_mean', 'bdod_0-5cm_uncertainty', 'bdod_5-15cm_Q0.5', 'bdod_5-15cm_Q0.05', 'bdod_5-15cm_Q0.95', 'bdod_5-15cm_mean', 'bdod_5-15cm_uncertainty', 'bdod_15-30cm_Q0.5', 'bdod_15-30cm_Q0.05', 'bdod_15-30cm_Q0.95', 'bdod_15-30cm_mean', 'bdod_15-30cm_uncertainty', 'bdod_30-60cm_Q0.05', 'bdod_30-60cm_Q0.5', 'bdod_30-60cm_Q0.95', 'bdod_30-60cm_mean', 'bdod_30-60cm_uncertainty', 'bdod_60-100cm_Q0.05', 'bdod_60-100cm_Q0.5', 'bdod_60-100cm_Q0.95', 'bdod_60-100cm_mean', 'bdod_60-100cm_uncertainty', 'bdod_100-200cm_Q0.05', 'bdod_100-200cm_Q0.5', 'bdod_100-200cm_Q0.95', 'bdod_100-200cm_mean', 'bdod_100-200cm_uncertainty']\n"
     ]
    }
   ],
   "source": [
    "print(list(wcs.contents))"
   ]
  },
  {
   "cell_type": "markdown",
   "metadata": {},
   "source": [
    "That is a large set of coverages, but it is easy to filter the dictionary. For instance, to get the name of all  coverages for the 0 cm to 5 cm depth interval:"
   ]
  },
  {
   "cell_type": "code",
   "execution_count": 4,
   "metadata": {},
   "outputs": [
    {
     "name": "stdout",
     "output_type": "stream",
     "text": [
      "['bdod_0-5cm_Q0.5', 'bdod_0-5cm_Q0.05', 'bdod_0-5cm_Q0.95', 'bdod_0-5cm_mean', 'bdod_0-5cm_uncertainty']\n"
     ]
    }
   ],
   "source": [
    "names = [k for k in wcs.contents.keys() if k.startswith(\"bdod_0-5cm\")]\n",
    "print(names)"
   ]
  },
  {
   "cell_type": "markdown",
   "metadata": {},
   "source": [
    "Or to search for all the coverages reporting the median prediction:"
   ]
  },
  {
   "cell_type": "code",
   "execution_count": 5,
   "metadata": {},
   "outputs": [
    {
     "name": "stdout",
     "output_type": "stream",
     "text": [
      "['bdod_0-5cm_Q0.5', 'bdod_5-15cm_Q0.5', 'bdod_15-30cm_Q0.5', 'bdod_30-60cm_Q0.5', 'bdod_60-100cm_Q0.5', 'bdod_100-200cm_Q0.5']\n"
     ]
    }
   ],
   "source": [
    "q0_5_covs = [k for k in wcs.contents.keys() if k.find(\"Q0.5\") != -1]\n",
    "print(q0_5_covs)"
   ]
  },
  {
   "cell_type": "markdown",
   "metadata": {},
   "source": [
    "These are the SoilGrids predictions for bulk density for the six standard depths defined in the [GlobalSoilMap](https://www.globalsoilmap.net) specifications.\n",
    "\n",
    "The details for one of these coverages can be inspected using the identifiers above:"
   ]
  },
  {
   "cell_type": "code",
   "execution_count": 6,
   "metadata": {},
   "outputs": [
    {
     "data": {
      "text/plain": [
       "[urn:ogc:def:crs:EPSG::152160,\n",
       " urn:ogc:def:crs:EPSG::4326,\n",
       " urn:ogc:def:crs:EPSG::3857,\n",
       " urn:ogc:def:crs:EPSG::54009,\n",
       " urn:ogc:def:crs:EPSG::54012,\n",
       " urn:ogc:def:crs:EPSG::152160]"
      ]
     },
     "execution_count": 6,
     "metadata": {},
     "output_type": "execute_result"
    }
   ],
   "source": [
    "bdod_5_15_median = wcs.contents['bdod_5-15cm_Q0.5']\n",
    "bdod_5_15_median.supportedCRS"
   ]
  },
  {
   "cell_type": "code",
   "execution_count": 7,
   "metadata": {},
   "outputs": [
    {
     "data": {
      "text/plain": [
       "['GEOTIFF_INT16']"
      ]
     },
     "execution_count": 7,
     "metadata": {},
     "output_type": "execute_result"
    }
   ],
   "source": [
    "bdod_5_15_median.supportedFormats"
   ]
  },
  {
   "cell_type": "code",
   "execution_count": 8,
   "metadata": {},
   "outputs": [
    {
     "data": {
      "text/plain": [
       "[{'bbox': (-179.991347553068,\n",
       "   -55.9773009202418,\n",
       "   179.994461880094,\n",
       "   82.7192840534453),\n",
       "  'nativeSrs': 'EPSG:4326'},\n",
       " {'bbox': (-19949000.0, -6147500.0, 19861750.0, 8361000.0),\n",
       "  'nativeSrs': 'EPSG:152160'}]"
      ]
     },
     "execution_count": 8,
     "metadata": {},
     "output_type": "execute_result"
    }
   ],
   "source": [
    "bdod_5_15_median.boundingboxes"
   ]
  },
  {
   "cell_type": "markdown",
   "metadata": {},
   "source": [
    "All these information bits are important to request actual data, i.e. map segments. [Section 2](02-WCS-getExtent.ipynb) provides an example."
   ]
  }
 ],
 "metadata": {
  "@webio": {
   "lastCommId": "24F3CE795230432DAE375840C632FD14",
   "lastKernelId": "5fbc165e-e72f-430e-b457-f7d6f4594928"
  },
  "kernelspec": {
   "display_name": "Python 3",
   "language": "python",
   "name": "python3"
  },
  "language_info": {
   "codemirror_mode": {
    "name": "ipython",
    "version": 3
   },
   "file_extension": ".py",
   "mimetype": "text/x-python",
   "name": "python",
   "nbconvert_exporter": "python",
   "pygments_lexer": "ipython3",
   "version": "3.6.9"
  }
 },
 "nbformat": 4,
 "nbformat_minor": 2
}
