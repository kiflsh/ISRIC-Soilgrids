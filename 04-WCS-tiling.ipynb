{
 "cells": [
  {
   "cell_type": "markdown",
   "metadata": {},
   "source": [
    "Tiling requests for large areas\n",
    "=========================\n",
    "\n",
    "The previous examples showed how to obtain an area of interest in a single request. In circumstances where the area of interest is large this method may not suceed. This can be the case with a large country like Brasil or a large geographic region like the Sahara. Requesting such a large map can take too long and may even hit resource limits in the server.\n",
    "\n",
    "In these cases the best approach is to obtain the map with various requests. Each successive request fetches a segment of the area of interest (a tile) than can later be composed together as a mosaic.\n",
    "\n",
    "Since the *GetCoverage* request will be issued several times, it is better to start by encapsulating it in a function:"
   ]
  },
  {
   "cell_type": "code",
   "execution_count": null,
   "metadata": {},
   "outputs": [],
   "source": [
    "from owslib.wcs import WebCoverageService\n",
    "\n",
    "def getTile(wcs, crs, cov_id, subsets, resX, resY, format, tile):\n",
    "    \n",
    "    response = wcs.getCoverage(\n",
    "        identifier=[cov_id], \n",
    "        crs=crs,\n",
    "        subsets=subsets, \n",
    "        resx=resX, resy=resY, \n",
    "        format=format)\n",
    "    \n",
    "    with open('./data/' + cov_id + '_' + tile + '.tif', 'wb') as file:\n",
    "        file.write(response.read())"
   ]
  },
  {
   "cell_type": "markdown",
   "metadata": {},
   "source": [
    "Then a few variables are initialised with the settings of the desired map. In this example the area of interest is the country of Algeria. "
   ]
  },
  {
   "cell_type": "code",
   "execution_count": null,
   "metadata": {},
   "outputs": [],
   "source": [
    "wcs = WebCoverageService('https://maps.isric.org/mapserv?map=/map/phh2o.map',\n",
    "                         version='2.0.1')\n",
    "cov_id = 'phh2o_0-5cm_mean'\n",
    "ph_0_5 = wcs.contents[cov_id]\n",
    "\n",
    "crs = \"http://www.opengis.net/def/crs/EPSG/0/152160\"\n",
    "\n",
    "xMin = -500000 \n",
    "xMax = 1500000\n",
    "yMin = 2100000\n",
    "yMax = 4200000"
   ]
  },
  {
   "cell_type": "markdown",
   "metadata": {},
   "source": [
    "Now comes the key set up: resolution and tile size. The tile size needs to be a multiple of the resolution to include an whole number of cells."
   ]
  },
  {
   "cell_type": "code",
   "execution_count": null,
   "metadata": {},
   "outputs": [],
   "source": [
    "resX = 250\n",
    "resY = 250\n",
    "tileSide = resX * 2800"
   ]
  },
  {
   "cell_type": "markdown",
   "metadata": {},
   "source": [
    "And the fun bit, a nested loop to obtain the tiles in succession. A counter, *tileN*, is used to name the tiles."
   ]
  },
  {
   "cell_type": "code",
   "execution_count": null,
   "metadata": {},
   "outputs": [],
   "source": [
    "tileN = 0\n",
    "subX = xMin\n",
    "\n",
    "while subX < xMax:\n",
    "\n",
    "    subY = yMin\n",
    "    while subY < yMax:\n",
    "        \n",
    "        subsets = [('X', subX, subX + tileSide), \n",
    "                   ('Y', subY, subY + tileSide)]\n",
    "        \n",
    "        getTile(wcs, crs, cov_id, subsets, resX, resY, \n",
    "                ph_0_5.supportedFormats[0], str(tileN))\n",
    "        print(\"Saved tile \" + str(tileN))\n",
    "        \n",
    "        subY = subY + tileSide\n",
    "        tileN = tileN + 1\n",
    "        \n",
    "    subX = subX + tileSide"
   ]
  },
  {
   "cell_type": "markdown",
   "metadata": {},
   "source": [
    "It is more convinient to use the bundle of tiles as a single map. The VRT file format is the right tool for this job. You need to have [GDAL](https://gdal.org/) installed, and then use it directly from the command line:  "
   ]
  },
  {
   "cell_type": "code",
   "execution_count": null,
   "metadata": {},
   "outputs": [],
   "source": [
    "!gdalbuildvrt ./data/Algeria_phh2o_0-5cm_mean.vrt ./data/phh2o_0-5cm_mean*.tif"
   ]
  },
  {
   "cell_type": "markdown",
   "metadata": {},
   "source": [
    "The final map can now be plotted as in the previous example:"
   ]
  },
  {
   "cell_type": "code",
   "execution_count": null,
   "metadata": {},
   "outputs": [],
   "source": [
    "import rasterio\n",
    "from rasterio import plot\n",
    "\n",
    "ph = rasterio.open(\"./data/Algeria_phh2o_0-5cm_mean.vrt\", driver=\"VRT\")\n",
    "%matplotlib inline\n",
    "plot.show(ph, title='Mean pH between 0 and 5 cm deep in Algeria', cmap='gist_rainbow')"
   ]
  },
  {
   "cell_type": "markdown",
   "metadata": {},
   "source": [
    "Experiment modifying the *tileSide*. Too small and it will result in a large number of tiles. Too large and it can overload the server.  "
   ]
  },
  {
   "cell_type": "markdown",
   "metadata": {},
   "source": [
    "[Index](index.ipynb) | [Previous](03-WCS-2.0.ipynb)"
   ]
  }
 ],
 "metadata": {
  "kernelspec": {
   "display_name": "Python 3",
   "language": "python",
   "name": "python3"
  },
  "language_info": {
   "codemirror_mode": {
    "name": "ipython",
    "version": 3
   },
   "file_extension": ".py",
   "mimetype": "text/x-python",
   "name": "python",
   "nbconvert_exporter": "python",
   "pygments_lexer": "ipython3",
   "version": "3.8.5"
  }
 },
 "nbformat": 4,
 "nbformat_minor": 4
}
