{
 "cells": [
  {
   "cell_type": "markdown",
   "metadata": {},
   "source": [
    "Tiling requests for large areas\n",
    "=========================\n",
    "\n",
    "The previous examples showed how to obtained an area of interest in a single request. In circumstances were the area of interest is large this method may not suceed. This can be the case with a large country like Brasil or a large geographic region like the Sahara. Requesting such a large map from the server can take too long and may even hit resource limits in the server.\n",
    "\n",
    "In these cases the best approach is to obtain the map with various requests. Each successive requests fetches a segment of the area of interest (a tile) than can later be composed together as a mosaic.\n",
    "\n",
    "Since the GetCoverage request will be issued several times, the first thing to do is to encapsulate it in a function:"
   ]
  },
  {
   "cell_type": "code",
   "execution_count": null,
   "metadata": {},
   "outputs": [],
   "source": [
    "from owslib.wcs import WebCoverageService\n",
    "\n",
    "getTile(cov_id, subsets, resX, resY, format, tile):\n",
    "    \n",
    "    response = wcs.getCoverage(\n",
    "        identifier=[cov_id], \n",
    "        crs=crs,\n",
    "        subsets=subsets, \n",
    "        resx=resX, resy=resY, \n",
    "        format=format)\n",
    "    \n",
    "    with open('./data/' + cov_id + '_' + tile + '.tif', 'wb') as file:\n",
    "        file.write(response.read())"
   ]
  },
  {
   "cell_type": "markdown",
   "metadata": {},
   "source": [
    "Then a few variables are initialised with the settings of the desired map. In this example the area of interest is the country of Algeria. "
   ]
  },
  {
   "cell_type": "code",
   "execution_count": null,
   "metadata": {},
   "outputs": [],
   "source": [
    "wcs = WebCoverageService('https://maps.isric.org/mapserv?map=/map/phh2o.map',\n",
    "                         version='2.0.1')\n",
    "cov_id = 'phh2o_0-5cm_mean'\n",
    "ph_0_5 = wcs.contents[cov_id]\n",
    "\n",
    "xMin = -500000 \n",
    "xMax = 1500000\n",
    "yMin = 2100000\n",
    "yMax = 4200000"
   ]
  },
  {
   "cell_type": "markdown",
   "metadata": {},
   "source": [
    "Now comes the key set up: resolution and tile size. The tile size needs to be a multiple of the resolution to include an whole number of cells."
   ]
  },
  {
   "cell_type": "code",
   "execution_count": null,
   "metadata": {},
   "outputs": [],
   "source": [
    "resX = 250\n",
    "resY = 250\n",
    "tileSide = resX * 100"
   ]
  },
  {
   "cell_type": "markdown",
   "metadata": {},
   "source": [
    "[Index](index.ipynb) | [Previous](03-WCS-2.0.ipynb"
   ]
  }
 ],
 "metadata": {
  "kernelspec": {
   "display_name": "Python 3",
   "language": "python",
   "name": "python3"
  },
  "language_info": {
   "codemirror_mode": {
    "name": "ipython",
    "version": 3
   },
   "file_extension": ".py",
   "mimetype": "text/x-python",
   "name": "python",
   "nbconvert_exporter": "python",
   "pygments_lexer": "ipython3",
   "version": "3.8.5"
  }
 },
 "nbformat": 4,
 "nbformat_minor": 4
}
