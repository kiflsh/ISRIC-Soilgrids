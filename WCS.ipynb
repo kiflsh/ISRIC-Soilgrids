{
 "cells": [
  {
   "cell_type": "code",
   "execution_count": 1,
   "metadata": {},
   "outputs": [
    {
     "name": "stdout",
     "output_type": "stream",
     "text": [
      "['sg250m:ACDWRB_M_ss_250m', 'sg250m:AWCh1_M_sl1_250m', 'sg250m:AWCh1_M_sl2_250m', 'sg250m:AWCh1_M_sl3_250m', 'sg250m:AWCh1_M_sl4_250m', 'sg250m:AWCh1_M_sl5_250m', 'sg250m:AWCh1_M_sl6_250m', 'sg250m:AWCh1_M_sl7_250m', 'sg250m:AWCh2_M_sl1_250m', 'sg250m:AWCh2_M_sl2_250m', 'sg250m:AWCh2_M_sl3_250m', 'sg250m:AWCh2_M_sl4_250m', 'sg250m:AWCh2_M_sl5_250m', 'sg250m:AWCh2_M_sl6_250m', 'sg250m:AWCh2_M_sl7_250m', 'sg250m:AWCh3_M_sl1_250m', 'sg250m:AWCh3_M_sl2_250m', 'sg250m:AWCh3_M_sl3_250m', 'sg250m:AWCh3_M_sl4_250m', 'sg250m:AWCh3_M_sl5_250m', 'sg250m:AWCh3_M_sl6_250m', 'sg250m:AWCh3_M_sl7_250m', 'sg250m:AWCtS_M_sl1_250m', 'sg250m:AWCtS_M_sl2_250m', 'sg250m:AWCtS_M_sl3_250m', 'sg250m:AWCtS_M_sl4_250m', 'sg250m:AWCtS_M_sl5_250m', 'sg250m:AWCtS_M_sl6_250m', 'sg250m:AWCtS_M_sl7_250m', 'sg250m:BDRICM_M_250m', 'sg250m:BDRLOG_M_250m', 'sg250m:BDTICM_M_250m', 'sg250m:BLDFIE_M_sl1_250m', 'sg250m:BLDFIE_M_sl2_250m', 'sg250m:BLDFIE_M_sl3_250m', 'sg250m:BLDFIE_M_sl4_250m', 'sg250m:BLDFIE_M_sl5_250m', 'sg250m:BLDFIE_M_sl6_250m', 'sg250m:BLDFIE_M_sl7_250m', 'sg250m:CECSOL_M_sl1_250m', 'sg250m:CECSOL_M_sl2_250m', 'sg250m:CECSOL_M_sl3_250m', 'sg250m:CECSOL_M_sl4_250m', 'sg250m:CECSOL_M_sl5_250m', 'sg250m:CECSOL_M_sl6_250m', 'sg250m:CECSOL_M_sl7_250m', 'sg250m:CLYPPT_M_sl1_250m', 'sg250m:CLYPPT_M_sl2_250m', 'sg250m:CLYPPT_M_sl3_250m', 'sg250m:CLYPPT_M_sl4_250m', 'sg250m:CLYPPT_M_sl5_250m', 'sg250m:CLYPPT_M_sl6_250m', 'sg250m:CLYPPT_M_sl7_250m', 'sg250m:CRFVOL_M_sl1_250m', 'sg250m:CRFVOL_M_sl2_250m', 'sg250m:CRFVOL_M_sl3_250m', 'sg250m:CRFVOL_M_sl4_250m', 'sg250m:CRFVOL_M_sl5_250m', 'sg250m:CRFVOL_M_sl6_250m', 'sg250m:CRFVOL_M_sl7_250m', 'sg250m:HISTPR_250m', 'sg250m:OCDENS_M_sl1_250m', 'sg250m:OCDENS_M_sl2_250m', 'sg250m:OCDENS_M_sl3_250m', 'sg250m:OCDENS_M_sl4_250m', 'sg250m:OCDENS_M_sl5_250m', 'sg250m:OCDENS_M_sl6_250m', 'sg250m:OCDENS_M_sl7_250m', 'sg250m:OCSTHA_M_100cm_250m', 'sg250m:OCSTHA_M_200cm_250m', 'sg250m:OCSTHA_M_30cm_250m', 'sg250m:OCSTHA_M_sd1_250m', 'sg250m:OCSTHA_M_sd2_250m', 'sg250m:OCSTHA_M_sd3_250m', 'sg250m:OCSTHA_M_sd4_250m', 'sg250m:OCSTHA_M_sd5_250m', 'sg250m:OCSTHA_M_sd6_250m', 'sg250m:ORCDRC_M_sl1_250m', 'sg250m:ORCDRC_M_sl2_250m', 'sg250m:ORCDRC_M_sl3_250m', 'sg250m:ORCDRC_M_sl4_250m', 'sg250m:ORCDRC_M_sl5_250m', 'sg250m:ORCDRC_M_sl6_250m', 'sg250m:ORCDRC_M_sl7_250m', 'sg250m:PHIHOX_M_sl1_250m', 'sg250m:PHIHOX_M_sl2_250m', 'sg250m:PHIHOX_M_sl3_250m', 'sg250m:PHIHOX_M_sl4_250m', 'sg250m:PHIHOX_M_sl5_250m', 'sg250m:PHIHOX_M_sl6_250m', 'sg250m:PHIHOX_M_sl7_250m', 'sg250m:PHIKCL_M_sl1_250m', 'sg250m:PHIKCL_M_sl2_250m', 'sg250m:PHIKCL_M_sl3_250m', 'sg250m:PHIKCL_M_sl4_250m', 'sg250m:PHIKCL_M_sl5_250m', 'sg250m:PHIKCL_M_sl6_250m', 'sg250m:PHIKCL_M_sl7_250m', 'sg250m:SLGWRB_250m', 'sg250m:SLTPPT_M_sl1_250m', 'sg250m:SLTPPT_M_sl2_250m', 'sg250m:SLTPPT_M_sl3_250m', 'sg250m:SLTPPT_M_sl4_250m', 'sg250m:SLTPPT_M_sl5_250m', 'sg250m:SLTPPT_M_sl6_250m', 'sg250m:SLTPPT_M_sl7_250m', 'sg250m:SNDPPT_M_sl1_250m', 'sg250m:SNDPPT_M_sl2_250m', 'sg250m:SNDPPT_M_sl3_250m', 'sg250m:SNDPPT_M_sl4_250m', 'sg250m:SNDPPT_M_sl5_250m', 'sg250m:SNDPPT_M_sl6_250m', 'sg250m:SNDPPT_M_sl7_250m', 'sg1km:TAXGWRB_02_apr_2014', 'sg1km:TAXGWRB_Acrisols_02_apr_2014', 'sg1km:TAXGWRB_Albeluvisols_02_apr_2014', 'sg1km:TAXGWRB_Alisols_02_apr_2014', 'sg1km:TAXGWRB_Andosols_02_apr_2014', 'sg1km:TAXGWRB_Anthrosols_02_apr_2014', 'sg1km:TAXGWRB_Arenosols_02_apr_2014', 'sg1km:TAXGWRB_Calcisols_02_apr_2014', 'sg1km:TAXGWRB_Cambisols_02_apr_2014', 'sg1km:TAXGWRB_Chernozems_02_apr_2014', 'sg1km:TAXGWRB_Cryosols_02_apr_2014', 'sg1km:TAXGWRB_Durisols_02_apr_2014', 'sg1km:TAXGWRB_Ferralsols_02_apr_2014', 'sg1km:TAXGWRB_Fluvisols_02_apr_2014', 'sg1km:TAXGWRB_Gleysols_02_apr_2014', 'sg1km:TAXGWRB_Gypsisols_02_apr_2014', 'sg1km:TAXGWRB_Histosols_02_apr_2014', 'sg1km:TAXGWRB_Kastanozems_02_apr_2014', 'sg1km:TAXGWRB_Leptosols_02_apr_2014', 'sg1km:TAXGWRB_Lixisols_02_apr_2014', 'sg1km:TAXGWRB_Luvisols_02_apr_2014', 'sg1km:TAXGWRB_Nitisols_02_apr_2014', 'sg1km:TAXGWRB_Phaeozems_02_apr_2014', 'sg1km:TAXGWRB_Planosols_02_apr_2014', 'sg1km:TAXGWRB_Plinthosols_02_apr_2014', 'sg1km:TAXGWRB_Podzols_02_apr_2014', 'sg1km:TAXGWRB_Podzoluvisols_02_apr_2014', 'sg1km:TAXGWRB_Regosols_02_apr_2014', 'sg1km:TAXGWRB_Solonchaks_02_apr_2014', 'sg1km:TAXGWRB_Solonetz_02_apr_2014', 'sg1km:TAXGWRB_Stagnosols_02_apr_2014', 'sg1km:TAXGWRB_Umbrisols_02_apr_2014', 'sg1km:TAXGWRB_Vertisols_02_apr_2014', 'sg250m:TAXNWRB_250m', 'sg250m:TAXNWRB_Acric.Ferralsols_250m', 'sg250m:TAXNWRB_Acric.Plinthosols_250m', 'sg250m:TAXNWRB_Albic.Arenosols_250m', 'sg250m:TAXNWRB_Albic.Luvisols_250m', 'sg250m:TAXNWRB_Alic.Nitisols_250m', 'sg250m:TAXNWRB_Aluandic.Andosols_250m', 'sg250m:TAXNWRB_Aric.Regosols_250m', 'sg250m:TAXNWRB_Calcaric.Regosols_250m', 'sg250m:TAXNWRB_Calcic.Chernozems_250m', 'sg250m:TAXNWRB_Calcic.Gleysols_250m', 'sg250m:TAXNWRB_Calcic.Gypsisols_250m', 'sg250m:TAXNWRB_Calcic.Histosols_250m', 'sg250m:TAXNWRB_Calcic.Kastanozems_250m', 'sg250m:TAXNWRB_Calcic.Luvisols_250m', 'sg250m:TAXNWRB_Calcic.Solonetz_250m', 'sg250m:TAXNWRB_Calcic.Vertisols_250m', 'sg250m:TAXNWRB_Cryic.Histosols_250m', 'sg250m:TAXNWRB_Cutanic.Alisols_250m', 'sg250m:TAXNWRB_Endogleyic.Cambisols_250m', 'sg250m:TAXNWRB_Endogleyic.Planosols_250m', 'sg250m:TAXNWRB_Ferralic.Arenosols_250m', 'sg250m:TAXNWRB_Ferralic.Cambisols_250m', 'sg250m:TAXNWRB_Fibric.Histosols_250m', 'sg250m:TAXNWRB_Gleyic.Luvisols_250m', 'sg250m:TAXNWRB_Gleyic.Podzols_250m', 'sg250m:TAXNWRB_Gleyic.Solonetz_250m', 'sg250m:TAXNWRB_Gypsic.Solonchaks_250m', 'sg250m:TAXNWRB_Haplic.Acrisols..Alumic._250m', 'sg250m:TAXNWRB_Haplic.Acrisols..Ferric._250m', 'sg250m:TAXNWRB_Haplic.Acrisols..Humic._250m', 'sg250m:TAXNWRB_Haplic.Acrisols_250m', 'sg250m:TAXNWRB_Haplic.Albeluvisols_250m', 'sg250m:TAXNWRB_Haplic.Alisols_250m', 'sg250m:TAXNWRB_Haplic.Andosols_250m', 'sg250m:TAXNWRB_Haplic.Arenosols..Calcaric._250m', 'sg250m:TAXNWRB_Haplic.Arenosols_250m', 'sg250m:TAXNWRB_Haplic.Calcisols..Sodic._250m', 'sg250m:TAXNWRB_Haplic.Calcisols_250m', 'sg250m:TAXNWRB_Haplic.Cambisols..Calcaric._250m', 'sg250m:TAXNWRB_Haplic.Cambisols..Chromic._250m', 'sg250m:TAXNWRB_Haplic.Cambisols..Dystric._250m', 'sg250m:TAXNWRB_Haplic.Cambisols..Eutric._250m', 'sg250m:TAXNWRB_Haplic.Cambisols..Humic._250m', 'sg250m:TAXNWRB_Haplic.Cambisols..Sodic._250m', 'sg250m:TAXNWRB_Haplic.Cambisols_250m', 'sg250m:TAXNWRB_Haplic.Chernozems_250m', 'sg250m:TAXNWRB_Haplic.Cryosols_250m', 'sg250m:TAXNWRB_Haplic.Ferralsols..Rhodic._250m', 'sg250m:TAXNWRB_Haplic.Ferralsols..Xanthic._250m', 'sg250m:TAXNWRB_Haplic.Ferralsols_250m', 'sg250m:TAXNWRB_Haplic.Fluvisols..Arenic._250m', 'sg250m:TAXNWRB_Haplic.Fluvisols..Calcaric._250m', 'sg250m:TAXNWRB_Haplic.Fluvisols..Dystric._250m', 'sg250m:TAXNWRB_Haplic.Fluvisols..Eutric._250m', 'sg250m:TAXNWRB_Haplic.Fluvisols_250m', 'sg250m:TAXNWRB_Haplic.Gleysols..Dystric._250m', 'sg250m:TAXNWRB_Haplic.Gleysols..Eutric._250m', 'sg250m:TAXNWRB_Haplic.Gleysols_250m', 'sg250m:TAXNWRB_Haplic.Gypsisols_250m', 'sg250m:TAXNWRB_Haplic.Kastanozems_250m', 'sg250m:TAXNWRB_Haplic.Leptosols..Eutric._250m', 'sg250m:TAXNWRB_Haplic.Leptosols_250m', 'sg250m:TAXNWRB_Haplic.Lixisols..Chromic._250m', 'sg250m:TAXNWRB_Haplic.Lixisols..Ferric._250m', 'sg250m:TAXNWRB_Haplic.Lixisols_250m', 'sg250m:TAXNWRB_Haplic.Luvisols..Chromic._250m', 'sg250m:TAXNWRB_Haplic.Luvisols..Ferric._250m', 'sg250m:TAXNWRB_Haplic.Luvisols_250m', 'sg250m:TAXNWRB_Haplic.Nitisols..Rhodic._250m', 'sg250m:TAXNWRB_Haplic.Phaeozems_250m', 'sg250m:TAXNWRB_Haplic.Planosols..Dystric._250m', 'sg250m:TAXNWRB_Haplic.Planosols..Eutric._250m', 'sg250m:TAXNWRB_Haplic.Podzols_250m', 'sg250m:TAXNWRB_Haplic.Regosols..Dystric._250m', 'sg250m:TAXNWRB_Haplic.Regosols..Eutric._250m', 'sg250m:TAXNWRB_Haplic.Regosols..Sodic._250m', 'sg250m:TAXNWRB_Haplic.Solonchaks..Sodic._250m', 'sg250m:TAXNWRB_Haplic.Solonchaks_250m', 'sg250m:TAXNWRB_Haplic.Solonetz_250m', 'sg250m:TAXNWRB_Haplic.Umbrisols_250m', 'sg250m:TAXNWRB_Haplic.Vertisols..Eutric._250m', 'sg250m:TAXNWRB_Haplic.Vertisols_250m', 'sg250m:TAXNWRB_Hemic.Histosols_250m', 'sg250m:TAXNWRB_Histic.Albeluvisols_250m', 'sg250m:TAXNWRB_Hypoluvic.Arenosols_250m', 'sg250m:TAXNWRB_Leptic.Cambisols_250m', 'sg250m:TAXNWRB_Leptic.Luvisols_250m', 'sg250m:TAXNWRB_Leptic.Phaeozems_250m', 'sg250m:TAXNWRB_Leptic.Regosols_250m', 'sg250m:TAXNWRB_Leptic.Umbrisols_250m', 'sg250m:TAXNWRB_Lithic.Leptosols_250m', 'sg250m:TAXNWRB_Lixic.Plinthosols_250m', 'sg250m:TAXNWRB_Luvic.Calcisols_250m', 'sg250m:TAXNWRB_Luvic.Chernozems_250m', 'sg250m:TAXNWRB_Luvic.Phaeozems_250m', 'sg250m:TAXNWRB_Luvic.Planosols_250m', 'sg250m:TAXNWRB_Luvic.Stagnosols_250m', 'sg250m:TAXNWRB_Mollic.Gleysols_250m', 'sg250m:TAXNWRB_Mollic.Leptosols_250m', 'sg250m:TAXNWRB_Mollic.Solonetz_250m', 'sg250m:TAXNWRB_Mollic.Vertisols_250m', 'sg250m:TAXNWRB_Petric.Calcisols_250m', 'sg250m:TAXNWRB_Petric.Durisols_250m', 'sg250m:TAXNWRB_Plinthic.Acrisols_250m', 'sg250m:TAXNWRB_Protic.Arenosols_250m', 'sg250m:TAXNWRB_Rendzic.Leptosols_250m', 'sg250m:TAXNWRB_Sapric.Histosols_250m', 'sg250m:TAXNWRB_Solodic.Planosols_250m', 'sg250m:TAXNWRB_Stagnic.Luvisols_250m', 'sg250m:TAXNWRB_Turbic.Cryosols_250m', 'sg250m:TAXNWRB_Umbric.Albeluvisols_250m', 'sg250m:TAXNWRB_Umbric.Ferralsols_250m', 'sg250m:TAXNWRB_Umbric.Gleysols_250m', 'sg250m:TAXNWRB_Vertic.Cambisols_250m', 'sg250m:TAXNWRB_Vertic.Luvisols_250m', 'sg250m:TAXNWRB_Vetic.Acrisols_250m', 'sg250m:TAXNWRB_Vitric.Andosols_250m', 'sg250m:TAXNWRB_Vitric.Cryosols_250m', 'sg250m:TAXOUSDA_250m', 'sg250m:TAXOUSDA_Albolls_250m', 'sg250m:TAXOUSDA_Aqualfs_250m', 'sg250m:TAXOUSDA_Aquands_250m', 'sg250m:TAXOUSDA_Aquents_250m', 'sg250m:TAXOUSDA_Aquepts_250m', 'sg250m:TAXOUSDA_Aquerts_250m', 'sg250m:TAXOUSDA_Aquods_250m', 'sg250m:TAXOUSDA_Aquolls_250m', 'sg250m:TAXOUSDA_Aquox_250m', 'sg250m:TAXOUSDA_Aquults_250m', 'sg250m:TAXOUSDA_Arents_250m', 'sg250m:TAXOUSDA_Argids_250m', 'sg250m:TAXOUSDA_Borolls_250m', 'sg250m:TAXOUSDA_Calcids_250m', 'sg250m:TAXOUSDA_Cambids_250m', 'sg250m:TAXOUSDA_Cryalfs_250m', 'sg250m:TAXOUSDA_Cryands_250m', 'sg250m:TAXOUSDA_Cryepts_250m', 'sg250m:TAXOUSDA_Cryids_250m', 'sg250m:TAXOUSDA_Cryods_250m', 'sg250m:TAXOUSDA_Cryolls_250m', 'sg250m:TAXOUSDA_Durids_250m', 'sg250m:TAXOUSDA_Fibrists_250m', 'sg250m:TAXOUSDA_Fluvents_250m', 'sg250m:TAXOUSDA_Folists_250m', 'sg250m:TAXOUSDA_Gelands_250m', 'sg250m:TAXOUSDA_Gelepts_250m', 'sg250m:TAXOUSDA_Gelods_250m', 'sg250m:TAXOUSDA_Gypsids_250m', 'sg250m:TAXOUSDA_Hemists_250m', 'sg250m:TAXOUSDA_Histels_250m', 'sg250m:TAXOUSDA_Humods_250m', 'sg250m:TAXOUSDA_Humults_250m', 'sg250m:TAXOUSDA_Ochrepts_250m', 'sg250m:TAXOUSDA_Orthels_250m', 'sg250m:TAXOUSDA_Orthents_250m', 'sg250m:TAXOUSDA_Orthods_250m', 'sg250m:TAXOUSDA_Perox_250m', 'sg250m:TAXOUSDA_Psamments_250m', 'sg250m:TAXOUSDA_Rendolls_250m', 'sg250m:TAXOUSDA_Salids_250m', 'sg250m:TAXOUSDA_Saprists_250m', 'sg250m:TAXOUSDA_Torrands_250m', 'sg250m:TAXOUSDA_Torrerts_250m', 'sg250m:TAXOUSDA_Torrox_250m', 'sg250m:TAXOUSDA_Turbels_250m', 'sg250m:TAXOUSDA_Udalfs_250m', 'sg250m:TAXOUSDA_Udands_250m', 'sg250m:TAXOUSDA_Udepts_250m', 'sg250m:TAXOUSDA_Uderts_250m', 'sg250m:TAXOUSDA_Udolls_250m', 'sg250m:TAXOUSDA_Udox_250m', 'sg250m:TAXOUSDA_Udults_250m', 'sg250m:TAXOUSDA_Ustalfs_250m', 'sg250m:TAXOUSDA_Ustands_250m', 'sg250m:TAXOUSDA_Ustepts_250m', 'sg250m:TAXOUSDA_Usterts_250m', 'sg250m:TAXOUSDA_Ustolls_250m', 'sg250m:TAXOUSDA_Ustox_250m', 'sg250m:TAXOUSDA_Ustults_250m', 'sg250m:TAXOUSDA_Vitrands_250m', 'sg250m:TAXOUSDA_Xeralfs_250m', 'sg250m:TAXOUSDA_Xerands_250m', 'sg250m:TAXOUSDA_Xerepts_250m', 'sg250m:TAXOUSDA_Xererts_250m', 'sg250m:TAXOUSDA_Xerolls_250m', 'sg250m:TAXOUSDA_Xerults_250m', 'sg250m:TEXMHT_M_sl1_250m', 'sg250m:TEXMHT_M_sl2_250m', 'sg250m:TEXMHT_M_sl3_250m', 'sg250m:TEXMHT_M_sl4_250m', 'sg250m:TEXMHT_M_sl5_250m', 'sg250m:TEXMHT_M_sl6_250m', 'sg250m:TEXMHT_M_sl7_250m', 'sg250m:WWP_M_sl1_250m', 'sg250m:WWP_M_sl2_250m', 'sg250m:WWP_M_sl3_250m', 'sg250m:WWP_M_sl4_250m', 'sg250m:WWP_M_sl5_250m', 'sg250m:WWP_M_sl6_250m', 'sg250m:WWP_M_sl7_250m', 'af250m_nutrient:af250m_nutrient_al_m_agg30cm', 'af250m_nutrient:af250m_nutrient_b_m_agg30cm', 'af250m_nutrient:af250m_nutrient_ca_m_agg30cm', 'af250m_nutrient:af250m_nutrient_cu_m_agg30cm', 'af250m_nutrient:af250m_nutrient_fe_m_agg30cm', 'af250m_nutrient:af250m_nutrient_k_m_agg30cm', 'af250m_nutrient:af250m_nutrient_mg_m_agg30cm', 'af250m_nutrient:af250m_nutrient_mn_m_agg30cm', 'af250m_nutrient:af250m_nutrient_n_m_agg30cm', 'af250m_nutrient:af250m_nutrient_na_m_agg30cm', 'af250m_nutrient:af250m_nutrient_ncluster_m', 'af250m_nutrient:af250m_nutrient_p_m_agg30cm', 'af250m_nutrient:af250m_nutrient_p_t_m_agg30cm', 'af250m_nutrient:af250m_nutrient_zn_m_agg30cm', 'gyga:gyga_af_agg_30cm_awcpf23__m_1km', 'gyga:gyga_af_agg_30cm_crfvol__m_1km', 'gyga:gyga_af_agg_30cm_pwp__m_1km', 'gyga:gyga_af_agg_30cm_tawcpf23__m_1km', 'gyga:gyga_af_agg_30cm_tawcpf23mm__m_1km', 'gyga:gyga_af_agg_30cm_tetas__m_1km', 'gyga:gyga_af_agg_30cm_texclss__m_1km', 'gyga:gyga_af_agg_erzd_awcpf23__m_1km', 'gyga:gyga_af_agg_erzd_crfvol__m_1km', 'gyga:gyga_af_agg_erzd_pwp__m_1km', 'gyga:gyga_af_agg_erzd_tawcpf23__m_1km', 'gyga:gyga_af_agg_erzd_tawcpf23mm__m_1km', 'gyga:gyga_af_agg_erzd_tetas__m_1km', 'gyga:gyga_af_agg_erzd_texclss__m_1km', 'gyga:gyga_af_awcpf23__m_sd1_1km', 'gyga:gyga_af_awcpf23__m_sd2_1km', 'gyga:gyga_af_awcpf23__m_sd3_1km', 'gyga:gyga_af_awcpf23__m_sd4_1km', 'gyga:gyga_af_awcpf23__m_sd5_1km', 'gyga:gyga_af_awcpf23__m_sd6_1km', 'gyga:gyga_af_erzd__m_1km', 'gyga:gyga_af_erzd_limfactor__m_1km', 'gyga:gyga_af_limfactor_t__m_sd1_1km', 'gyga:gyga_af_limfactor_t__m_sd2_1km', 'gyga:gyga_af_limfactor_t__m_sd3_1km', 'gyga:gyga_af_limfactor_t__m_sd4_1km', 'gyga:gyga_af_limfactor_t__m_sd5_1km', 'gyga:gyga_af_limfactor_t__m_sd6_1km', 'gyga:gyga_af_lri_t__m_sd1_1km', 'gyga:gyga_af_lri_t__m_sd2_1km', 'gyga:gyga_af_lri_t__m_sd3_1km', 'gyga:gyga_af_lri_t__m_sd4_1km', 'gyga:gyga_af_lri_t__m_sd5_1km', 'gyga:gyga_af_lri_t__m_sd6_1km', 'gyga:gyga_af_pwp__m_sd1_1km', 'gyga:gyga_af_pwp__m_sd2_1km', 'gyga:gyga_af_pwp__m_sd3_1km', 'gyga:gyga_af_pwp__m_sd4_1km', 'gyga:gyga_af_pwp__m_sd5_1km', 'gyga:gyga_af_pwp__m_sd6_1km', 'gyga:gyga_af_tetas__m_sd1_1km', 'gyga:gyga_af_tetas__m_sd2_1km', 'gyga:gyga_af_tetas__m_sd3_1km', 'gyga:gyga_af_tetas__m_sd4_1km', 'gyga:gyga_af_tetas__m_sd5_1km', 'gyga:gyga_af_tetas__m_sd6_1km', 'landforms:landforms_Canada_Blue_Marble_ll', 'landforms:landforms_TCI_low__HTL-V3_BFI-w2_Canada500m_ll', 'landforms:landforms_TCI_low__HTL-V3_BFI-w2_Canada500m_ll_alpha', 'landforms:landforms_can250mhs_ll', 'landforms:landforms_can_250_geomorph_ll', 'landforms:landforms_can_250_slope_v2_ll', 'landforms:landforms_can_250_slope_v2_ll_alpha', 'tz_carbon:tz_c_oc1', 'tz_carbon:tz_c_oc1pil', 'tz_carbon:tz_c_oc1piu', 'tz_carbon:tz_c_oc2', 'tz_carbon:tz_c_oc2pil', 'tz_carbon:tz_c_oc2piu', 'tz_carbon:tz_c_oc3', 'tz_carbon:tz_c_oc3pil', 'tz_carbon:tz_c_oc3piu', 'tz_carbon:tz_c_oc4', 'tz_carbon:tz_c_oc4pil', 'tz_carbon:tz_c_oc4piu']\n"
     ]
    }
   ],
   "source": [
    "from owslib.wcs import WebCoverageService\n",
    "wcs = WebCoverageService('http://data.isric.org/geoserver/ows?service=WCS', version='1.0.0')\n",
    "print(list(wcs.contents))"
   ]
  },
  {
   "cell_type": "code",
   "execution_count": 2,
   "metadata": {},
   "outputs": [
    {
     "name": "stdout",
     "output_type": "stream",
     "text": [
      "['GetCapabilities', 'DescribeCoverage', 'GetCoverage']\n"
     ]
    }
   ],
   "source": [
    "print([op.name for op in wcs.operations])"
   ]
  },
  {
   "cell_type": "markdown",
   "metadata": {},
   "source": [
    "That is a large set of coverages, but it is easy to filter the dictionary. For instance, to get the name of all SoilGrids coverages:"
   ]
  },
  {
   "cell_type": "code",
   "execution_count": 3,
   "metadata": {},
   "outputs": [
    {
     "name": "stdout",
     "output_type": "stream",
     "text": [
      "['sg250m:ACDWRB_M_ss_250m', 'sg250m:AWCh1_M_sl1_250m', 'sg250m:AWCh1_M_sl2_250m', 'sg250m:AWCh1_M_sl3_250m', 'sg250m:AWCh1_M_sl4_250m', 'sg250m:AWCh1_M_sl5_250m', 'sg250m:AWCh1_M_sl6_250m', 'sg250m:AWCh1_M_sl7_250m', 'sg250m:AWCh2_M_sl1_250m', 'sg250m:AWCh2_M_sl2_250m', 'sg250m:AWCh2_M_sl3_250m', 'sg250m:AWCh2_M_sl4_250m', 'sg250m:AWCh2_M_sl5_250m', 'sg250m:AWCh2_M_sl6_250m', 'sg250m:AWCh2_M_sl7_250m', 'sg250m:AWCh3_M_sl1_250m', 'sg250m:AWCh3_M_sl2_250m', 'sg250m:AWCh3_M_sl3_250m', 'sg250m:AWCh3_M_sl4_250m', 'sg250m:AWCh3_M_sl5_250m', 'sg250m:AWCh3_M_sl6_250m', 'sg250m:AWCh3_M_sl7_250m', 'sg250m:AWCtS_M_sl1_250m', 'sg250m:AWCtS_M_sl2_250m', 'sg250m:AWCtS_M_sl3_250m', 'sg250m:AWCtS_M_sl4_250m', 'sg250m:AWCtS_M_sl5_250m', 'sg250m:AWCtS_M_sl6_250m', 'sg250m:AWCtS_M_sl7_250m', 'sg250m:BDRICM_M_250m', 'sg250m:BDRLOG_M_250m', 'sg250m:BDTICM_M_250m', 'sg250m:BLDFIE_M_sl1_250m', 'sg250m:BLDFIE_M_sl2_250m', 'sg250m:BLDFIE_M_sl3_250m', 'sg250m:BLDFIE_M_sl4_250m', 'sg250m:BLDFIE_M_sl5_250m', 'sg250m:BLDFIE_M_sl6_250m', 'sg250m:BLDFIE_M_sl7_250m', 'sg250m:CECSOL_M_sl1_250m', 'sg250m:CECSOL_M_sl2_250m', 'sg250m:CECSOL_M_sl3_250m', 'sg250m:CECSOL_M_sl4_250m', 'sg250m:CECSOL_M_sl5_250m', 'sg250m:CECSOL_M_sl6_250m', 'sg250m:CECSOL_M_sl7_250m', 'sg250m:CLYPPT_M_sl1_250m', 'sg250m:CLYPPT_M_sl2_250m', 'sg250m:CLYPPT_M_sl3_250m', 'sg250m:CLYPPT_M_sl4_250m', 'sg250m:CLYPPT_M_sl5_250m', 'sg250m:CLYPPT_M_sl6_250m', 'sg250m:CLYPPT_M_sl7_250m', 'sg250m:CRFVOL_M_sl1_250m', 'sg250m:CRFVOL_M_sl2_250m', 'sg250m:CRFVOL_M_sl3_250m', 'sg250m:CRFVOL_M_sl4_250m', 'sg250m:CRFVOL_M_sl5_250m', 'sg250m:CRFVOL_M_sl6_250m', 'sg250m:CRFVOL_M_sl7_250m', 'sg250m:HISTPR_250m', 'sg250m:OCDENS_M_sl1_250m', 'sg250m:OCDENS_M_sl2_250m', 'sg250m:OCDENS_M_sl3_250m', 'sg250m:OCDENS_M_sl4_250m', 'sg250m:OCDENS_M_sl5_250m', 'sg250m:OCDENS_M_sl6_250m', 'sg250m:OCDENS_M_sl7_250m', 'sg250m:OCSTHA_M_100cm_250m', 'sg250m:OCSTHA_M_200cm_250m', 'sg250m:OCSTHA_M_30cm_250m', 'sg250m:OCSTHA_M_sd1_250m', 'sg250m:OCSTHA_M_sd2_250m', 'sg250m:OCSTHA_M_sd3_250m', 'sg250m:OCSTHA_M_sd4_250m', 'sg250m:OCSTHA_M_sd5_250m', 'sg250m:OCSTHA_M_sd6_250m', 'sg250m:ORCDRC_M_sl1_250m', 'sg250m:ORCDRC_M_sl2_250m', 'sg250m:ORCDRC_M_sl3_250m', 'sg250m:ORCDRC_M_sl4_250m', 'sg250m:ORCDRC_M_sl5_250m', 'sg250m:ORCDRC_M_sl6_250m', 'sg250m:ORCDRC_M_sl7_250m', 'sg250m:PHIHOX_M_sl1_250m', 'sg250m:PHIHOX_M_sl2_250m', 'sg250m:PHIHOX_M_sl3_250m', 'sg250m:PHIHOX_M_sl4_250m', 'sg250m:PHIHOX_M_sl5_250m', 'sg250m:PHIHOX_M_sl6_250m', 'sg250m:PHIHOX_M_sl7_250m', 'sg250m:PHIKCL_M_sl1_250m', 'sg250m:PHIKCL_M_sl2_250m', 'sg250m:PHIKCL_M_sl3_250m', 'sg250m:PHIKCL_M_sl4_250m', 'sg250m:PHIKCL_M_sl5_250m', 'sg250m:PHIKCL_M_sl6_250m', 'sg250m:PHIKCL_M_sl7_250m', 'sg250m:SLGWRB_250m', 'sg250m:SLTPPT_M_sl1_250m', 'sg250m:SLTPPT_M_sl2_250m', 'sg250m:SLTPPT_M_sl3_250m', 'sg250m:SLTPPT_M_sl4_250m', 'sg250m:SLTPPT_M_sl5_250m', 'sg250m:SLTPPT_M_sl6_250m', 'sg250m:SLTPPT_M_sl7_250m', 'sg250m:SNDPPT_M_sl1_250m', 'sg250m:SNDPPT_M_sl2_250m', 'sg250m:SNDPPT_M_sl3_250m', 'sg250m:SNDPPT_M_sl4_250m', 'sg250m:SNDPPT_M_sl5_250m', 'sg250m:SNDPPT_M_sl6_250m', 'sg250m:SNDPPT_M_sl7_250m', 'sg250m:TAXNWRB_250m', 'sg250m:TAXNWRB_Acric.Ferralsols_250m', 'sg250m:TAXNWRB_Acric.Plinthosols_250m', 'sg250m:TAXNWRB_Albic.Arenosols_250m', 'sg250m:TAXNWRB_Albic.Luvisols_250m', 'sg250m:TAXNWRB_Alic.Nitisols_250m', 'sg250m:TAXNWRB_Aluandic.Andosols_250m', 'sg250m:TAXNWRB_Aric.Regosols_250m', 'sg250m:TAXNWRB_Calcaric.Regosols_250m', 'sg250m:TAXNWRB_Calcic.Chernozems_250m', 'sg250m:TAXNWRB_Calcic.Gleysols_250m', 'sg250m:TAXNWRB_Calcic.Gypsisols_250m', 'sg250m:TAXNWRB_Calcic.Histosols_250m', 'sg250m:TAXNWRB_Calcic.Kastanozems_250m', 'sg250m:TAXNWRB_Calcic.Luvisols_250m', 'sg250m:TAXNWRB_Calcic.Solonetz_250m', 'sg250m:TAXNWRB_Calcic.Vertisols_250m', 'sg250m:TAXNWRB_Cryic.Histosols_250m', 'sg250m:TAXNWRB_Cutanic.Alisols_250m', 'sg250m:TAXNWRB_Endogleyic.Cambisols_250m', 'sg250m:TAXNWRB_Endogleyic.Planosols_250m', 'sg250m:TAXNWRB_Ferralic.Arenosols_250m', 'sg250m:TAXNWRB_Ferralic.Cambisols_250m', 'sg250m:TAXNWRB_Fibric.Histosols_250m', 'sg250m:TAXNWRB_Gleyic.Luvisols_250m', 'sg250m:TAXNWRB_Gleyic.Podzols_250m', 'sg250m:TAXNWRB_Gleyic.Solonetz_250m', 'sg250m:TAXNWRB_Gypsic.Solonchaks_250m', 'sg250m:TAXNWRB_Haplic.Acrisols..Alumic._250m', 'sg250m:TAXNWRB_Haplic.Acrisols..Ferric._250m', 'sg250m:TAXNWRB_Haplic.Acrisols..Humic._250m', 'sg250m:TAXNWRB_Haplic.Acrisols_250m', 'sg250m:TAXNWRB_Haplic.Albeluvisols_250m', 'sg250m:TAXNWRB_Haplic.Alisols_250m', 'sg250m:TAXNWRB_Haplic.Andosols_250m', 'sg250m:TAXNWRB_Haplic.Arenosols..Calcaric._250m', 'sg250m:TAXNWRB_Haplic.Arenosols_250m', 'sg250m:TAXNWRB_Haplic.Calcisols..Sodic._250m', 'sg250m:TAXNWRB_Haplic.Calcisols_250m', 'sg250m:TAXNWRB_Haplic.Cambisols..Calcaric._250m', 'sg250m:TAXNWRB_Haplic.Cambisols..Chromic._250m', 'sg250m:TAXNWRB_Haplic.Cambisols..Dystric._250m', 'sg250m:TAXNWRB_Haplic.Cambisols..Eutric._250m', 'sg250m:TAXNWRB_Haplic.Cambisols..Humic._250m', 'sg250m:TAXNWRB_Haplic.Cambisols..Sodic._250m', 'sg250m:TAXNWRB_Haplic.Cambisols_250m', 'sg250m:TAXNWRB_Haplic.Chernozems_250m', 'sg250m:TAXNWRB_Haplic.Cryosols_250m', 'sg250m:TAXNWRB_Haplic.Ferralsols..Rhodic._250m', 'sg250m:TAXNWRB_Haplic.Ferralsols..Xanthic._250m', 'sg250m:TAXNWRB_Haplic.Ferralsols_250m', 'sg250m:TAXNWRB_Haplic.Fluvisols..Arenic._250m', 'sg250m:TAXNWRB_Haplic.Fluvisols..Calcaric._250m', 'sg250m:TAXNWRB_Haplic.Fluvisols..Dystric._250m', 'sg250m:TAXNWRB_Haplic.Fluvisols..Eutric._250m', 'sg250m:TAXNWRB_Haplic.Fluvisols_250m', 'sg250m:TAXNWRB_Haplic.Gleysols..Dystric._250m', 'sg250m:TAXNWRB_Haplic.Gleysols..Eutric._250m', 'sg250m:TAXNWRB_Haplic.Gleysols_250m', 'sg250m:TAXNWRB_Haplic.Gypsisols_250m', 'sg250m:TAXNWRB_Haplic.Kastanozems_250m', 'sg250m:TAXNWRB_Haplic.Leptosols..Eutric._250m', 'sg250m:TAXNWRB_Haplic.Leptosols_250m', 'sg250m:TAXNWRB_Haplic.Lixisols..Chromic._250m', 'sg250m:TAXNWRB_Haplic.Lixisols..Ferric._250m', 'sg250m:TAXNWRB_Haplic.Lixisols_250m', 'sg250m:TAXNWRB_Haplic.Luvisols..Chromic._250m', 'sg250m:TAXNWRB_Haplic.Luvisols..Ferric._250m', 'sg250m:TAXNWRB_Haplic.Luvisols_250m', 'sg250m:TAXNWRB_Haplic.Nitisols..Rhodic._250m', 'sg250m:TAXNWRB_Haplic.Phaeozems_250m', 'sg250m:TAXNWRB_Haplic.Planosols..Dystric._250m', 'sg250m:TAXNWRB_Haplic.Planosols..Eutric._250m', 'sg250m:TAXNWRB_Haplic.Podzols_250m', 'sg250m:TAXNWRB_Haplic.Regosols..Dystric._250m', 'sg250m:TAXNWRB_Haplic.Regosols..Eutric._250m', 'sg250m:TAXNWRB_Haplic.Regosols..Sodic._250m', 'sg250m:TAXNWRB_Haplic.Solonchaks..Sodic._250m', 'sg250m:TAXNWRB_Haplic.Solonchaks_250m', 'sg250m:TAXNWRB_Haplic.Solonetz_250m', 'sg250m:TAXNWRB_Haplic.Umbrisols_250m', 'sg250m:TAXNWRB_Haplic.Vertisols..Eutric._250m', 'sg250m:TAXNWRB_Haplic.Vertisols_250m', 'sg250m:TAXNWRB_Hemic.Histosols_250m', 'sg250m:TAXNWRB_Histic.Albeluvisols_250m', 'sg250m:TAXNWRB_Hypoluvic.Arenosols_250m', 'sg250m:TAXNWRB_Leptic.Cambisols_250m', 'sg250m:TAXNWRB_Leptic.Luvisols_250m', 'sg250m:TAXNWRB_Leptic.Phaeozems_250m', 'sg250m:TAXNWRB_Leptic.Regosols_250m', 'sg250m:TAXNWRB_Leptic.Umbrisols_250m', 'sg250m:TAXNWRB_Lithic.Leptosols_250m', 'sg250m:TAXNWRB_Lixic.Plinthosols_250m', 'sg250m:TAXNWRB_Luvic.Calcisols_250m', 'sg250m:TAXNWRB_Luvic.Chernozems_250m', 'sg250m:TAXNWRB_Luvic.Phaeozems_250m', 'sg250m:TAXNWRB_Luvic.Planosols_250m', 'sg250m:TAXNWRB_Luvic.Stagnosols_250m', 'sg250m:TAXNWRB_Mollic.Gleysols_250m', 'sg250m:TAXNWRB_Mollic.Leptosols_250m', 'sg250m:TAXNWRB_Mollic.Solonetz_250m', 'sg250m:TAXNWRB_Mollic.Vertisols_250m', 'sg250m:TAXNWRB_Petric.Calcisols_250m', 'sg250m:TAXNWRB_Petric.Durisols_250m', 'sg250m:TAXNWRB_Plinthic.Acrisols_250m', 'sg250m:TAXNWRB_Protic.Arenosols_250m', 'sg250m:TAXNWRB_Rendzic.Leptosols_250m', 'sg250m:TAXNWRB_Sapric.Histosols_250m', 'sg250m:TAXNWRB_Solodic.Planosols_250m', 'sg250m:TAXNWRB_Stagnic.Luvisols_250m', 'sg250m:TAXNWRB_Turbic.Cryosols_250m', 'sg250m:TAXNWRB_Umbric.Albeluvisols_250m', 'sg250m:TAXNWRB_Umbric.Ferralsols_250m', 'sg250m:TAXNWRB_Umbric.Gleysols_250m', 'sg250m:TAXNWRB_Vertic.Cambisols_250m', 'sg250m:TAXNWRB_Vertic.Luvisols_250m', 'sg250m:TAXNWRB_Vetic.Acrisols_250m', 'sg250m:TAXNWRB_Vitric.Andosols_250m', 'sg250m:TAXNWRB_Vitric.Cryosols_250m', 'sg250m:TAXOUSDA_250m', 'sg250m:TAXOUSDA_Albolls_250m', 'sg250m:TAXOUSDA_Aqualfs_250m', 'sg250m:TAXOUSDA_Aquands_250m', 'sg250m:TAXOUSDA_Aquents_250m', 'sg250m:TAXOUSDA_Aquepts_250m', 'sg250m:TAXOUSDA_Aquerts_250m', 'sg250m:TAXOUSDA_Aquods_250m', 'sg250m:TAXOUSDA_Aquolls_250m', 'sg250m:TAXOUSDA_Aquox_250m', 'sg250m:TAXOUSDA_Aquults_250m', 'sg250m:TAXOUSDA_Arents_250m', 'sg250m:TAXOUSDA_Argids_250m', 'sg250m:TAXOUSDA_Borolls_250m', 'sg250m:TAXOUSDA_Calcids_250m', 'sg250m:TAXOUSDA_Cambids_250m', 'sg250m:TAXOUSDA_Cryalfs_250m', 'sg250m:TAXOUSDA_Cryands_250m', 'sg250m:TAXOUSDA_Cryepts_250m', 'sg250m:TAXOUSDA_Cryids_250m', 'sg250m:TAXOUSDA_Cryods_250m', 'sg250m:TAXOUSDA_Cryolls_250m', 'sg250m:TAXOUSDA_Durids_250m', 'sg250m:TAXOUSDA_Fibrists_250m', 'sg250m:TAXOUSDA_Fluvents_250m', 'sg250m:TAXOUSDA_Folists_250m', 'sg250m:TAXOUSDA_Gelands_250m', 'sg250m:TAXOUSDA_Gelepts_250m', 'sg250m:TAXOUSDA_Gelods_250m', 'sg250m:TAXOUSDA_Gypsids_250m', 'sg250m:TAXOUSDA_Hemists_250m', 'sg250m:TAXOUSDA_Histels_250m', 'sg250m:TAXOUSDA_Humods_250m', 'sg250m:TAXOUSDA_Humults_250m', 'sg250m:TAXOUSDA_Ochrepts_250m', 'sg250m:TAXOUSDA_Orthels_250m', 'sg250m:TAXOUSDA_Orthents_250m', 'sg250m:TAXOUSDA_Orthods_250m', 'sg250m:TAXOUSDA_Perox_250m', 'sg250m:TAXOUSDA_Psamments_250m', 'sg250m:TAXOUSDA_Rendolls_250m', 'sg250m:TAXOUSDA_Salids_250m', 'sg250m:TAXOUSDA_Saprists_250m', 'sg250m:TAXOUSDA_Torrands_250m', 'sg250m:TAXOUSDA_Torrerts_250m', 'sg250m:TAXOUSDA_Torrox_250m', 'sg250m:TAXOUSDA_Turbels_250m', 'sg250m:TAXOUSDA_Udalfs_250m', 'sg250m:TAXOUSDA_Udands_250m', 'sg250m:TAXOUSDA_Udepts_250m', 'sg250m:TAXOUSDA_Uderts_250m', 'sg250m:TAXOUSDA_Udolls_250m', 'sg250m:TAXOUSDA_Udox_250m', 'sg250m:TAXOUSDA_Udults_250m', 'sg250m:TAXOUSDA_Ustalfs_250m', 'sg250m:TAXOUSDA_Ustands_250m', 'sg250m:TAXOUSDA_Ustepts_250m', 'sg250m:TAXOUSDA_Usterts_250m', 'sg250m:TAXOUSDA_Ustolls_250m', 'sg250m:TAXOUSDA_Ustox_250m', 'sg250m:TAXOUSDA_Ustults_250m', 'sg250m:TAXOUSDA_Vitrands_250m', 'sg250m:TAXOUSDA_Xeralfs_250m', 'sg250m:TAXOUSDA_Xerands_250m', 'sg250m:TAXOUSDA_Xerepts_250m', 'sg250m:TAXOUSDA_Xererts_250m', 'sg250m:TAXOUSDA_Xerolls_250m', 'sg250m:TAXOUSDA_Xerults_250m', 'sg250m:TEXMHT_M_sl1_250m', 'sg250m:TEXMHT_M_sl2_250m', 'sg250m:TEXMHT_M_sl3_250m', 'sg250m:TEXMHT_M_sl4_250m', 'sg250m:TEXMHT_M_sl5_250m', 'sg250m:TEXMHT_M_sl6_250m', 'sg250m:TEXMHT_M_sl7_250m', 'sg250m:WWP_M_sl1_250m', 'sg250m:WWP_M_sl2_250m', 'sg250m:WWP_M_sl3_250m', 'sg250m:WWP_M_sl4_250m', 'sg250m:WWP_M_sl5_250m', 'sg250m:WWP_M_sl6_250m', 'sg250m:WWP_M_sl7_250m']\n"
     ]
    }
   ],
   "source": [
    "names = [k for k in wcs.contents.keys() if k.startswith(\"sg250m\")]\n",
    "print(names)"
   ]
  },
  {
   "cell_type": "markdown",
   "metadata": {},
   "source": [
    "Or to search for all the coverages regarding cation exchange capacity (CEC):"
   ]
  },
  {
   "cell_type": "code",
   "execution_count": 4,
   "metadata": {},
   "outputs": [
    {
     "name": "stdout",
     "output_type": "stream",
     "text": [
      "['sg250m:CECSOL_M_sl1_250m', 'sg250m:CECSOL_M_sl2_250m', 'sg250m:CECSOL_M_sl3_250m', 'sg250m:CECSOL_M_sl4_250m', 'sg250m:CECSOL_M_sl5_250m', 'sg250m:CECSOL_M_sl6_250m', 'sg250m:CECSOL_M_sl7_250m']\n"
     ]
    }
   ],
   "source": [
    "cec_covs = [k for k in wcs.contents.keys() if k.find(\"CECSOL\") != -1]\n",
    "print(cec_covs)"
   ]
  },
  {
   "cell_type": "markdown",
   "metadata": {},
   "source": [
    "These are the SoilGrids predictions for CEC at the seven standard depths.\n",
    "\n",
    "The details for one of these coverages can be inspected using the identifiers above:"
   ]
  },
  {
   "cell_type": "code",
   "execution_count": 6,
   "metadata": {},
   "outputs": [
    {
     "data": {
      "text/plain": [
       "[urn:ogc:def:crs:EPSG::4326]"
      ]
     },
     "execution_count": 6,
     "metadata": {},
     "output_type": "execute_result"
    }
   ],
   "source": [
    "cec0cm = wcs.contents['sg250m:CECSOL_M_sl1_250m']\n",
    "cec0cm.supportedCRS"
   ]
  },
  {
   "cell_type": "code",
   "execution_count": 7,
   "metadata": {},
   "outputs": [
    {
     "data": {
      "text/plain": [
       "['ArcGrid', 'GeoTIFF', 'GIF', 'Gtopo30', 'ImageMosaic', 'JPEG', 'PNG', 'TIFF']"
      ]
     },
     "execution_count": 7,
     "metadata": {},
     "output_type": "execute_result"
    }
   ],
   "source": [
    "cec0cm.supportedFormats"
   ]
  },
  {
   "cell_type": "markdown",
   "metadata": {},
   "source": [
    "A bounding box broadly matching Senegal:"
   ]
  },
  {
   "cell_type": "code",
   "execution_count": 8,
   "metadata": {},
   "outputs": [],
   "source": [
    "bbox = (-17.1, 12.65, -13.15, 14.95) "
   ]
  },
  {
   "cell_type": "markdown",
   "metadata": {},
   "source": [
    "Now fetch the coverage for Senegal:"
   ]
  },
  {
   "cell_type": "code",
   "execution_count": 17,
   "metadata": {},
   "outputs": [],
   "source": [
    "response = wcs.getCoverage(\n",
    "    identifier='sg250m:CECSOL_M_sl1_250m', \n",
    "    crs='urn:ogc:def:crs:EPSG::4326',\n",
    "    bbox=bbox, \n",
    "    resx=250, resy=250, \n",
    "    format='GeoTIFF')"
   ]
  },
  {
   "cell_type": "code",
   "execution_count": 18,
   "metadata": {},
   "outputs": [],
   "source": [
    "with open('./data/Senegal_CEC0m.tif', 'wb') as file:\n",
    "    file.write(response.read())"
   ]
  },
  {
   "cell_type": "markdown",
   "metadata": {},
   "source": [
    "With the data on the client side some regular interaction can be started with a library like resterIO:"
   ]
  },
  {
   "cell_type": "code",
   "execution_count": 14,
   "metadata": {},
   "outputs": [
    {
     "ename": "RasterioIOError",
     "evalue": "'./data/Senegal_CEC0m.tif' not recognized as a supported file format.",
     "output_type": "error",
     "traceback": [
      "\u001b[0;31m---------------------------------------------------------------------------\u001b[0m",
      "\u001b[0;31mCPLE_OpenFailedError\u001b[0m                      Traceback (most recent call last)",
      "\u001b[0;32mrasterio/_base.pyx\u001b[0m in \u001b[0;36mrasterio._base.DatasetBase.__init__\u001b[0;34m()\u001b[0m\n",
      "\u001b[0;32mrasterio/_shim.pyx\u001b[0m in \u001b[0;36mrasterio._shim.open_dataset\u001b[0;34m()\u001b[0m\n",
      "\u001b[0;32mrasterio/_err.pyx\u001b[0m in \u001b[0;36mrasterio._err.exc_wrap_pointer\u001b[0;34m()\u001b[0m\n",
      "\u001b[0;31mCPLE_OpenFailedError\u001b[0m: './data/Senegal_CEC0m.tif' not recognized as a supported file format.",
      "\nDuring handling of the above exception, another exception occurred:\n",
      "\u001b[0;31mRasterioIOError\u001b[0m                           Traceback (most recent call last)",
      "\u001b[0;32m<ipython-input-14-3c4dada614d1>\u001b[0m in \u001b[0;36m<module>\u001b[0;34m()\u001b[0m\n\u001b[1;32m      1\u001b[0m \u001b[0;32mimport\u001b[0m \u001b[0mrasterio\u001b[0m\u001b[0;34m\u001b[0m\u001b[0;34m\u001b[0m\u001b[0m\n\u001b[0;32m----> 2\u001b[0;31m \u001b[0mCEC\u001b[0m \u001b[0;34m=\u001b[0m \u001b[0mrasterio\u001b[0m\u001b[0;34m.\u001b[0m\u001b[0mopen\u001b[0m\u001b[0;34m(\u001b[0m\u001b[0;34m\"./data/Senegal_CEC0m.tif\"\u001b[0m\u001b[0;34m,\u001b[0m \u001b[0mdriver\u001b[0m\u001b[0;34m=\u001b[0m\u001b[0;34m\"GTiff\"\u001b[0m\u001b[0;34m)\u001b[0m\u001b[0;34m\u001b[0m\u001b[0;34m\u001b[0m\u001b[0m\n\u001b[0m\u001b[1;32m      3\u001b[0m \u001b[0mshow\u001b[0m\u001b[0;34m(\u001b[0m\u001b[0mCEC\u001b[0m\u001b[0;34m,\u001b[0m \u001b[0mtitle\u001b[0m\u001b[0;34m=\u001b[0m\u001b[0;34m'Cation Exchange Capacity at 0 metres in Senegal'\u001b[0m\u001b[0;34m,\u001b[0m \u001b[0mcmap\u001b[0m\u001b[0;34m=\u001b[0m\u001b[0;34m'gist_ncar'\u001b[0m\u001b[0;34m)\u001b[0m\u001b[0;34m\u001b[0m\u001b[0;34m\u001b[0m\u001b[0m\n",
      "\u001b[0;32m/usr/lib/python3/dist-packages/rasterio/env.py\u001b[0m in \u001b[0;36mwrapper\u001b[0;34m(*args, **kwds)\u001b[0m\n\u001b[1;32m    428\u001b[0m \u001b[0;34m\u001b[0m\u001b[0m\n\u001b[1;32m    429\u001b[0m         \u001b[0;32mwith\u001b[0m \u001b[0menv_ctor\u001b[0m\u001b[0;34m(\u001b[0m\u001b[0msession\u001b[0m\u001b[0;34m=\u001b[0m\u001b[0msession\u001b[0m\u001b[0;34m)\u001b[0m\u001b[0;34m:\u001b[0m\u001b[0;34m\u001b[0m\u001b[0;34m\u001b[0m\u001b[0m\n\u001b[0;32m--> 430\u001b[0;31m             \u001b[0;32mreturn\u001b[0m \u001b[0mf\u001b[0m\u001b[0;34m(\u001b[0m\u001b[0;34m*\u001b[0m\u001b[0margs\u001b[0m\u001b[0;34m,\u001b[0m \u001b[0;34m**\u001b[0m\u001b[0mkwds\u001b[0m\u001b[0;34m)\u001b[0m\u001b[0;34m\u001b[0m\u001b[0;34m\u001b[0m\u001b[0m\n\u001b[0m\u001b[1;32m    431\u001b[0m \u001b[0;34m\u001b[0m\u001b[0m\n\u001b[1;32m    432\u001b[0m     \u001b[0;32mreturn\u001b[0m \u001b[0mwrapper\u001b[0m\u001b[0;34m\u001b[0m\u001b[0;34m\u001b[0m\u001b[0m\n",
      "\u001b[0;32m/usr/lib/python3/dist-packages/rasterio/__init__.py\u001b[0m in \u001b[0;36mopen\u001b[0;34m(fp, mode, driver, width, height, count, crs, transform, dtype, nodata, sharing, **kwargs)\u001b[0m\n\u001b[1;32m    214\u001b[0m         \u001b[0;31m# None.\u001b[0m\u001b[0;34m\u001b[0m\u001b[0;34m\u001b[0m\u001b[0;34m\u001b[0m\u001b[0m\n\u001b[1;32m    215\u001b[0m         \u001b[0;32mif\u001b[0m \u001b[0mmode\u001b[0m \u001b[0;34m==\u001b[0m \u001b[0;34m'r'\u001b[0m\u001b[0;34m:\u001b[0m\u001b[0;34m\u001b[0m\u001b[0;34m\u001b[0m\u001b[0m\n\u001b[0;32m--> 216\u001b[0;31m             \u001b[0ms\u001b[0m \u001b[0;34m=\u001b[0m \u001b[0mDatasetReader\u001b[0m\u001b[0;34m(\u001b[0m\u001b[0mpath\u001b[0m\u001b[0;34m,\u001b[0m \u001b[0mdriver\u001b[0m\u001b[0;34m=\u001b[0m\u001b[0mdriver\u001b[0m\u001b[0;34m,\u001b[0m \u001b[0msharing\u001b[0m\u001b[0;34m=\u001b[0m\u001b[0msharing\u001b[0m\u001b[0;34m,\u001b[0m \u001b[0;34m**\u001b[0m\u001b[0mkwargs\u001b[0m\u001b[0;34m)\u001b[0m\u001b[0;34m\u001b[0m\u001b[0;34m\u001b[0m\u001b[0m\n\u001b[0m\u001b[1;32m    217\u001b[0m         \u001b[0;32melif\u001b[0m \u001b[0mmode\u001b[0m \u001b[0;34m==\u001b[0m \u001b[0;34m'r+'\u001b[0m\u001b[0;34m:\u001b[0m\u001b[0;34m\u001b[0m\u001b[0;34m\u001b[0m\u001b[0m\n\u001b[1;32m    218\u001b[0m             \u001b[0ms\u001b[0m \u001b[0;34m=\u001b[0m \u001b[0mget_writer_for_path\u001b[0m\u001b[0;34m(\u001b[0m\u001b[0mpath\u001b[0m\u001b[0;34m)\u001b[0m\u001b[0;34m(\u001b[0m\u001b[0mpath\u001b[0m\u001b[0;34m,\u001b[0m \u001b[0mmode\u001b[0m\u001b[0;34m,\u001b[0m \u001b[0mdriver\u001b[0m\u001b[0;34m=\u001b[0m\u001b[0mdriver\u001b[0m\u001b[0;34m,\u001b[0m \u001b[0msharing\u001b[0m\u001b[0;34m=\u001b[0m\u001b[0msharing\u001b[0m\u001b[0;34m,\u001b[0m \u001b[0;34m**\u001b[0m\u001b[0mkwargs\u001b[0m\u001b[0;34m)\u001b[0m\u001b[0;34m\u001b[0m\u001b[0;34m\u001b[0m\u001b[0m\n",
      "\u001b[0;32mrasterio/_base.pyx\u001b[0m in \u001b[0;36mrasterio._base.DatasetBase.__init__\u001b[0;34m()\u001b[0m\n",
      "\u001b[0;31mRasterioIOError\u001b[0m: './data/Senegal_CEC0m.tif' not recognized as a supported file format."
     ]
    }
   ],
   "source": [
    "import rasterio\n",
    "CEC = rasterio.open(\"./data/Senegal_CEC0m.tif\", driver=\"GTiff\")\n",
    "show(CEC, title='Cation Exchange Capacity at 0 metres in Senegal', cmap='gist_ncar')"
   ]
  },
  {
   "cell_type": "markdown",
   "metadata": {},
   "source": [
    "Next steps:\n",
    "https://publicwiki.deltares.nl/display/OET/WCS+primer\n",
    "https://geoscripting-wur.github.io/PythonRaster/"
   ]
  }
 ],
 "metadata": {
  "@webio": {
   "lastCommId": "3FD8CF9125D94CCE86EE0B0DF1CEC69A",
   "lastKernelId": "531e0a26-bb79-41d5-baf8-d05a2de72845"
  },
  "kernelspec": {
   "display_name": "Python 3",
   "language": "python",
   "name": "python3"
  },
  "language_info": {
   "codemirror_mode": {
    "name": "ipython",
    "version": 3
   },
   "file_extension": ".py",
   "mimetype": "text/x-python",
   "name": "python",
   "nbconvert_exporter": "python",
   "pygments_lexer": "ipython3",
   "version": "3.6.8"
  }
 },
 "nbformat": 4,
 "nbformat_minor": 2
}
