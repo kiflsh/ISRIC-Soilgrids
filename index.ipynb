{
 "cells": [
  {
   "cell_type": "markdown",
   "metadata": {},
   "source": [
    "SoilGrids notebooks\n",
    "===========\n",
    "\n",
    "![SoilGrids](images/SoilGrids.png)\n",
    "\n",
    "This collection of notebooks exemplifies how to use the [SoilGrids](https://www.isric.org/explore/soilgrids) maps programmatically. They show how to obtain basic information about the maps, fetching and plotting the maps and more.\n",
    "\n",
    "For more information on SoilGrids, its inputs, process and outputs, please visit the [FAQ page](https://www.isric.org/explore/soilgrids/faq-soilgrids).\n",
    "\n",
    "Table of Contents\n",
    "--------------------\n",
    "\n",
    "1. [WCS: basic operations](01-WCS-basics.ipynb)\n",
    "2. [WCS: fetching and plotting a map segment](02-WCS-getExtent.ipynb)\n",
    "3. [WCS: working with WCS 2.0](03-WCS-2.0.ipynb)"
   ]
  }
 ],
 "metadata": {
  "@webio": {
   "lastCommId": "3BD4EF8BC62C488D8D88C41D94B01342",
   "lastKernelId": "a5e0e0c5-1db0-480a-b598-b588e82bb8fc"
  },
  "kernelspec": {
   "display_name": "Python 3",
   "language": "python",
   "name": "python3"
  },
  "language_info": {
   "codemirror_mode": {
    "name": "ipython",
    "version": 3
   },
   "file_extension": ".py",
   "mimetype": "text/x-python",
   "name": "python",
   "nbconvert_exporter": "python",
   "pygments_lexer": "ipython3",
   "version": "3.8.2"
  }
 },
 "nbformat": 4,
 "nbformat_minor": 2
}
